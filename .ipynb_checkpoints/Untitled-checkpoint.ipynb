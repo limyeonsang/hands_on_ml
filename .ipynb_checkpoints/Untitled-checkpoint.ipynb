{
 "cells": [
  {
   "cell_type": "markdown",
   "id": "editorial-gnome",
   "metadata": {},
   "source": [
    "# MNIST"
   ]
  },
  {
   "cell_type": "code",
   "execution_count": 2,
   "id": "meaning-holiday",
   "metadata": {
    "scrolled": true
   },
   "outputs": [
    {
     "data": {
      "text/plain": [
       "dict_keys(['data', 'target', 'frame', 'categories', 'feature_names', 'target_names', 'DESCR', 'details', 'url'])"
      ]
     },
     "execution_count": 2,
     "metadata": {},
     "output_type": "execute_result"
    }
   ],
   "source": [
    "from sklearn.datasets import fetch_openml\n",
    "mnist = fetch_openml('mnist_784', version=1)\n",
    "mnist.keys()"
   ]
  },
  {
   "cell_type": "markdown",
   "id": "coated-horse",
   "metadata": {},
   "source": [
    "사이킷런에서 읽어 들인 데이터셋들은 일반적으로 비슷한 dict구조를 갖는다.\n",
    "- 데이터셋을 설명하는 DESCR\n",
    "- 샘플이 하나의 행, 특성이 하나의 열로 구성된 배열을 가진 data\n",
    "- 레이블 배열을 담은 target"
   ]
  },
  {
   "cell_type": "code",
   "execution_count": 3,
   "id": "amazing-fitting",
   "metadata": {},
   "outputs": [
    {
     "name": "stdout",
     "output_type": "stream",
     "text": [
      "(70000, 784)\n",
      "(70000,)\n"
     ]
    }
   ],
   "source": [
    "X, y = mnist['data'], mnist['target']\n",
    "print(X.shape)\n",
    "print(y.shape)"
   ]
  },
  {
   "cell_type": "markdown",
   "id": "sound-timing",
   "metadata": {},
   "source": [
    "70000개의 이미지가 있고 각 이미지엔 784개의 특성이 있다. 이미지가 28x28 픽셀이기 때문이다. \\\n",
    "개개의 특성은 단순히 0(흰색) ~ 255(검은색)까지의 픽셀강도를 나타낸다. \\\n",
    "데이터셋에서 이미지 하나를 확인해본다. 샘플의 특성 벡터를 추출해 28x28 배열로 크기를 바꾸고 matplotlib의 imshow() 함수를 사용해 그린다."
   ]
  },
  {
   "cell_type": "code",
   "execution_count": 4,
   "id": "intelligent-texas",
   "metadata": {},
   "outputs": [
    {
     "data": {
      "image/png": "[encoded data removed]",
      "text/plain": [
       "<Figure size 432x288 with 1 Axes>"
      ]
     },
     "metadata": {
      "needs_background": "light"
     },
     "output_type": "display_data"
    }
   ],
   "source": [
    "import matplotlib as mpl\n",
    "import matplotlib.pyplot as plt\n",
    "\n",
    "some_digit = X[0]\n",
    "some_digit_image = some_digit.reshape(28, 28)\n",
    "\n",
    "plt.imshow(some_digit_image, cmap=\"binary\")\n",
    "plt.axis('off')\n",
    "plt.show()"
   ]
  },
  {
   "cell_type": "code",
   "execution_count": 5,
   "id": "small-evanescence",
   "metadata": {},
   "outputs": [
    {
     "data": {
      "text/plain": [
       "'5'"
      ]
     },
     "execution_count": 5,
     "metadata": {},
     "output_type": "execute_result"
    }
   ],
   "source": [
    "y[0]"
   ]
  },
  {
   "cell_type": "markdown",
   "id": "unknown-interview",
   "metadata": {},
   "source": [
    "실제 레이블을 확인했을 때 위 그림과 숫자가 일치한다. \n",
    "\n",
    "\n",
    "레이블은 문자열이다. 대부분 머신러닝 알고리즘은 숫자를 기대하므로 y를 정수로 변환하겠다."
   ]
  },
  {
   "cell_type": "code",
   "execution_count": 6,
   "id": "deadly-research",
   "metadata": {},
   "outputs": [],
   "source": [
    "import numpy as np\n",
    "\n",
    "y = y.astype(np.uint8)"
   ]
  },
  {
   "cell_type": "markdown",
   "id": "structural-peace",
   "metadata": {},
   "source": [
    "데이터를 들여다보기 전에 test_set을 만들어야 한다. MNIST dataset은 앞쪽 60000개와 뒤쪽 10000개로 훈련, 테스트세트를 나눠 두었다."
   ]
  },
  {
   "cell_type": "code",
   "execution_count": 7,
   "id": "alleged-adaptation",
   "metadata": {},
   "outputs": [],
   "source": [
    "X_train, X_test, y_train, y_test = X[:60000], X[60000:], y[:60000], y[60000:]"
   ]
  },
  {
   "cell_type": "markdown",
   "id": "comparative-stick",
   "metadata": {},
   "source": [
    "훈련 세트는 이미 섞여 있어, 모든 교차 검증 폴드를 비슷하게 만든다, 게다가 어떤 학습 알고리즘은 훈련 샘플의 순서에 민감해서 많은 비슷한 샘플이 연이어 나타나면 성능이 나빠진다. 이는 데이터셋을 섞음으로 방지할 수 있다."
   ]
  },
  {
   "cell_type": "markdown",
   "id": "inside-valley",
   "metadata": {},
   "source": [
    "## 1.이진 분류기 훈련\n",
    "문제를 단순화해서 하나의 숫자(예:5)만 식별해보자. 이 '5-감지기'는 '5'와 '5가 아님' 두개의 클래스를 구분할 수 있는 **이진 분류기(binary classifier)**의 한 예이다. 분류 작업을 위해 타깃 벡터를 만들어본다."
   ]
  },
  {
   "cell_type": "code",
   "execution_count": 8,
   "id": "hydraulic-grocery",
   "metadata": {},
   "outputs": [],
   "source": [
    "y_train_5 = (y_train==5) # 5=True, else=False\n",
    "y_test_5 = (y_test==5)"
   ]
  },
  {
   "cell_type": "markdown",
   "id": "passing-reverse",
   "metadata": {},
   "source": [
    "이제 분류 모델을 하나 선택해서 훈련시킨다. sklearn의 SGDClassifier 클래스를 사용해 **확률적 경사 하강법(Stochastic Gradient Descent)** 분류기로 시작해보는 것도 좋다. 이 분류기는 매우 큰 데이터셋을 효율적으로 처리하는 장점을 지니고 있다. (한 번에 하나씩 훈련 샘플을 독립적으로 처리하기 때문이다.)\n",
    "\n",
    "SGDClassifier 모델을 만들고 전체 훈련 세트를 사용해 룬련시킨다."
   ]
  },
  {
   "cell_type": "code",
   "execution_count": 9,
   "id": "liberal-paste",
   "metadata": {},
   "outputs": [
    {
     "data": {
      "text/plain": [
       "SGDClassifier(random_state=42)"
      ]
     },
     "execution_count": 9,
     "metadata": {},
     "output_type": "execute_result"
    }
   ],
   "source": [
    "from sklearn.linear_model import SGDClassifier\n",
    "\n",
    "sgd_clf = SGDClassifier(random_state=42)\n",
    "sgd_clf.fit(X_train, y_train_5)"
   ]
  },
  {
   "cell_type": "markdown",
   "id": "dietary-architecture",
   "metadata": {},
   "source": [
    "💡 SGDClassifier는 훈련하는 데 무작위성을 사용한다. 결과를 재현하고 싶다면 random_state를 지정해야 한다. 💡\n",
    "\n",
    "이제 이 모델을 사용해 숫자 5의 이미지를 감지해본다."
   ]
  },
  {
   "cell_type": "code",
   "execution_count": 10,
   "id": "extensive-liberia",
   "metadata": {},
   "outputs": [
    {
     "data": {
      "text/plain": [
       "array([ True])"
      ]
     },
     "execution_count": 10,
     "metadata": {},
     "output_type": "execute_result"
    }
   ],
   "source": [
    "sgd_clf.predict([some_digit])"
   ]
  },
  {
   "cell_type": "markdown",
   "id": "civilian-salmon",
   "metadata": {},
   "source": [
    "분류기는 이 이미지가 5를 나타낸다고 추측했다. 이 경우 특별하게 정확히 맞췄다."
   ]
  },
  {
   "cell_type": "markdown",
   "id": "periodic-cooler",
   "metadata": {},
   "source": [
    "## 2.성능 측정"
   ]
  },
  {
   "cell_type": "markdown",
   "id": "curious-brief",
   "metadata": {},
   "source": [
    "### 2-1.교차 검증을 사용한 정확도 측정"
   ]
  },
  {
   "cell_type": "markdown",
   "id": "utility-superior",
   "metadata": {},
   "source": [
    "#### 2-1-1.교차 검증 구현\n",
    "가끔 사이킷런이 제공하는 기능보다 교차 검증을 더 많이 제어해야 할 필요가 있다. 이 때는 교차 검증 기능을 직접 구현해야 한다. 다음 코드는 사이킷런의 cross_val_score() 함수와 거의 같은 작업을 수행하고 동일한 경과를 출력한다."
   ]
  },
  {
   "cell_type": "code",
   "execution_count": 11,
   "id": "exotic-ratio",
   "metadata": {},
   "outputs": [
    {
     "name": "stdout",
     "output_type": "stream",
     "text": [
      "0.9669\n",
      "0.91625\n",
      "0.96785\n"
     ]
    }
   ],
   "source": [
    "from sklearn.model_selection import StratifiedKFold\n",
    "from sklearn.base import clone\n",
    "\n",
    "skfolds = StratifiedKFold(n_splits=3, random_state=42, shuffle=True)\n",
    "\n",
    "for train_index, test_index in skfolds.split(X_train, y_train_5):\n",
    "    clone_clf = clone(sgd_clf)\n",
    "    X_train_folds = X_train[train_index]\n",
    "    y_train_folds = y_train_5[train_index]\n",
    "    X_test_fold = X_train[test_index]\n",
    "    y_test_fold = y_train_5[test_index]\n",
    "    \n",
    "    clone_clf.fit(X_train_folds, y_train_folds)\n",
    "    y_pred = clone_clf.predict(X_test_fold)\n",
    "    n_correct = sum(y_pred == y_test_fold)\n",
    "    print(n_correct / len(y_pred)) "
   ]
  },
  {
   "cell_type": "markdown",
   "id": "external-situation",
   "metadata": {},
   "source": [
    "StratifiedKFold는 클래스별 비율이 유지되도록 폴드를 만들기 위해 계층적 샘플링을 수행한다. 매 반복에서 분류기 객체를 복제하여 훈련 폴드로 훈련시키고 테스트 폴드로 예측을 만든다. 그런 다음 올바른 예측의 수를 세어 정확한 예측의 비율을 출력한다."
   ]
  },
  {
   "cell_type": "markdown",
   "id": "tropical-marshall",
   "metadata": {},
   "source": [
    "cross_val_score() 함수로 폴드가 3개인 k-겹 교차 검증을 사용해 SGDClassifier 모델을 평가해본다. k-겹 교차 검증은 훈련 세트를 k(여기선 3개)개의 폴드로 나누고, 각 폴드에 대해 예측을 만들고 평가하기 위해 나머지 폴드로 훈련시킨 모델을 사용한다."
   ]
  },
  {
   "cell_type": "code",
   "execution_count": 12,
   "id": "defined-michigan",
   "metadata": {},
   "outputs": [
    {
     "data": {
      "text/plain": [
       "array([0.95035, 0.96035, 0.9604 ])"
      ]
     },
     "execution_count": 12,
     "metadata": {},
     "output_type": "execute_result"
    }
   ],
   "source": [
    "from sklearn.model_selection import cross_val_score\n",
    "cross_val_score(sgd_clf, X_train, y_train_5, cv=3, scoring='accuracy')"
   ]
  },
  {
   "cell_type": "markdown",
   "id": "nasty-klein",
   "metadata": {},
   "source": [
    "모든 교차 검증 폴드에 대해 정확도가 95% 이상이다. \n",
    "\n",
    "모든 이미지를 '5 아님' 클래스로 분류하는 더미 분류기를 만들어본다."
   ]
  },
  {
   "cell_type": "code",
   "execution_count": 13,
   "id": "fossil-saver",
   "metadata": {},
   "outputs": [],
   "source": [
    "from sklearn.base import BaseEstimator\n",
    "\n",
    "class Never5Classifier(BaseEstimator):\n",
    "    def fit(self, X, y=None):\n",
    "        return self\n",
    "    def predict(self, X):\n",
    "        return np.zeros((len(X), 1), dtype=bool)"
   ]
  },
  {
   "cell_type": "markdown",
   "id": "occupied-teens",
   "metadata": {},
   "source": [
    "모델의 정확도를 확인"
   ]
  },
  {
   "cell_type": "code",
   "execution_count": 14,
   "id": "modular-aquarium",
   "metadata": {},
   "outputs": [
    {
     "data": {
      "text/plain": [
       "array([0.91125, 0.90855, 0.90915])"
      ]
     },
     "execution_count": 14,
     "metadata": {},
     "output_type": "execute_result"
    }
   ],
   "source": [
    "never_5_clf = Never5Classifier()\n",
    "cross_val_score(never_5_clf, X_train, y_train_5, cv=3, scoring='accuracy')"
   ]
  },
  {
   "cell_type": "markdown",
   "id": "modern-triple",
   "metadata": {},
   "source": [
    "정확도가 90%이상으로 나왔다. 이미지의 10% 정도만 숫자 5이기 때문에 무조건 '5아님'으로 예측하면 90%이다. \n",
    "\n",
    "위의 시도는 정확도를 분류기의 성능 측정 지표로 선호하지 않는 이유를 보여준다. 특히 *불균형한 데이터셋* 즉, 어떤 클래스가 다른 것보다 월등히 많은 경우 더욱 그렇다."
   ]
  },
  {
   "cell_type": "markdown",
   "id": "impressed-atmosphere",
   "metadata": {},
   "source": [
    "### 2-2.오차 행렬\n",
    "분류기의 다른 성능 평가 방법은 **오차 행렬(confusion matrix)** 을 조사하는 것이다. 기본적인 아이디어는 class A의 샘플이 class B로 분류된 횟수를 세는 것이다. 예를 들어 분류기가 숫자 5의 이미지를 3으로 잘못 분류한 횟수를 알고 싶다면 오차 행렬의 5행 3열을 보면된다.\n",
    "\n",
    "오차 행렬을 만들려면 실제 타깃과 비교할 수 있도록 먼저 예측값을 만들어야 한다. 테스트 세트로 예측을 만들 수 있지만 사용해선 안된다. 대신 cross_al_predict() 함수를 사용할 수 있다."
   ]
  },
  {
   "cell_type": "code",
   "execution_count": 15,
   "id": "crude-stephen",
   "metadata": {},
   "outputs": [],
   "source": [
    "from sklearn.model_selection import cross_val_predict\n",
    "\n",
    "y_train_pred = cross_val_predict(sgd_clf, X_train, y_train_5, cv=3)"
   ]
  },
  {
   "cell_type": "markdown",
   "id": "cellular-poison",
   "metadata": {},
   "source": [
    "cross_val_score() 함수처럼 cross_val_predict() 함수는 k-겹 교차 검증을 수행하지만 평가 점수를 반환하지 않고 각 테스트 폴드에서 얻은 예측을 반환한다. 즉 모델이 훈련하는 동안 보지 못했던 데이터에 대한 예측을 얻게 된다."
   ]
  },
  {
   "cell_type": "markdown",
   "id": "fifty-development",
   "metadata": {},
   "source": [
    "이제 confusion_matrix() 함수를 사용해 오차 행렬을 만들 준비가 되었다. \\\n",
    "타깃 클래스(y_train_5)와 예측 클래스(y_train_pred)를 넣고 호출하면 된다."
   ]
  },
  {
   "cell_type": "code",
   "execution_count": 17,
   "id": "confident-fisher",
   "metadata": {},
   "outputs": [
    {
     "data": {
      "text/plain": [
       "array([[53892,   687],\n",
       "       [ 1891,  3530]], dtype=int64)"
      ]
     },
     "execution_count": 17,
     "metadata": {},
     "output_type": "execute_result"
    }
   ],
   "source": [
    "from sklearn.metrics import confusion_matrix\n",
    "confusion_matrix(y_train_5, y_train_pred)"
   ]
  },
  {
   "attachments": {
    "image-2.png": {
     "image/png": "[encoded data removed]"
    }
   },
   "cell_type": "markdown",
   "id": "confused-demand",
   "metadata": {},
   "source": [
    "오차 행렬의 행은 실제 클래스를 나타내고  열은 예측한 클래스를 나타낸다. \\\n",
    "이 행렬의 첫번째 행은 '5 아님'이미지(negative class)에 대한 것으로, 53057개를 '5 아님'으로 정확하게 분류했고(true negative) 나머지 1522개는 '5'라고 잘못 분류했다.(false positive) \\\n",
    "두 번째 행은 '5'이미지(positive class)에 대한 것으로 1325개를 '5 아님'으로 잘못 분류했고(false negative) 나머지 4096개를 정확히 '5'라고 분류했다.(true positive) 왁벽한 분류기라면 진짜 양성과 진짜 음성만 가지고 있을 것이므로 오차 행렬의 주대각선만 0이 아닌 값이 된다.\n",
    "\n",
    "![image-2.png](attachment:image-2.png)\n",
    "TP=진짜 양성의 수, TN=진짜 음성의 수 ,FP=거짓 양성의 수, FN=거짓 음성의 수"
   ]
  },
  {
   "cell_type": "code",
   "execution_count": 19,
   "id": "nearby-thesaurus",
   "metadata": {},
   "outputs": [
    {
     "data": {
      "text/plain": [
       "array([[54579,     0],\n",
       "       [    0,  5421]], dtype=int64)"
      ]
     },
     "execution_count": 19,
     "metadata": {},
     "output_type": "execute_result"
    }
   ],
   "source": [
    "y_train_perfect_predictions = y_train_5 # 완벽한 분류기일 경우/\n",
    "confusion_matrix(y_train_5, y_train_perfect_predictions)"
   ]
  },
  {
   "attachments": {},
   "cell_type": "markdown",
   "id": "permanent-speed",
   "metadata": {},
   "source": [
    "더욱 요약된 지표를 필요로 할 때 살펴볼만한 것은 양성 예측의 정확도이다. 이를 분류기의 **정밀도(precision)**라고 한다. \n",
    "\n",
    "정밀도 = TP / (TP + FP)"
   ]
  },
  {
   "cell_type": "markdown",
   "id": "extended-tracy",
   "metadata": {},
   "source": [
    "확실한 양성 샘플 하나만 예측하면 간단히 완벽한 정밀도(=1/1+0)를 얻을 수 있지만 이는 분류기가 다른 모든 양성 샘플을 무시하기 떄문에 그리 유용하지 않다. 정밀도는 **재현율(recall)**이라는 또 다른 지표와 같이 사용하는 것이 일반적이다. \\\n",
    "재현율은 분류기가 정확하게 감지한 양성 샘플의 비율로 **민감도(sensitivity)** 또는 **진짜 양성 비율(true positive rate)**이라고도 한다.\n",
    "\n",
    "재현율 = TP / (TP + FN)"
   ]
  },
  {
   "cell_type": "markdown",
   "id": "thrown-spokesman",
   "metadata": {},
   "source": [
    "### 2-3.정밀도와 재현율\n",
    "정밀도는 검색된 결과들 중 관련 있는 것으로 분류된 결과물의 비율이고\\\n",
    "재현율은 관련 있는 것으로 분류된 항목들 중 실제 검색된 항목들의 비율이다\n",
    "\n",
    "sklearn은 정밀도와 재현율을 포함하여 분류기의 지표를 계산하는 여러 함수를 제공한다."
   ]
  },
  {
   "cell_type": "code",
   "execution_count": 21,
   "id": "nominated-charge",
   "metadata": {},
   "outputs": [
    {
     "data": {
      "text/plain": [
       "0.8370879772350012"
      ]
     },
     "execution_count": 21,
     "metadata": {},
     "output_type": "execute_result"
    }
   ],
   "source": [
    "from sklearn.metrics import precision_score, recall_score\n",
    "precision_score(y_train_5, y_train_pred)"
   ]
  },
  {
   "cell_type": "code",
   "execution_count": 22,
   "id": "electric-screening",
   "metadata": {},
   "outputs": [
    {
     "data": {
      "text/plain": [
       "0.6511713705958311"
      ]
     },
     "execution_count": 22,
     "metadata": {},
     "output_type": "execute_result"
    }
   ],
   "source": [
    "recall_score(y_train_5, y_train_pred)"
   ]
  },
  {
   "attachments": {
    "image.png": {
     "image/png": "[encoded data removed]"
    }
   },
   "cell_type": "markdown",
   "id": "sized-intellectual",
   "metadata": {},
   "source": [
    "이제 '5-감지기'가 정확도에서 봤을 때만큼 좋아보이지 않는다. 5로 판별된 이미지중 72.9%만 정확하고 전체 숫자 5에서 75.6%만 감지했다.\n",
    "\n",
    "정밀도와 재현율을 **F1 score**라고 하는 하나의 숫자로 만들면 편리하다. F1점수는 정밀도와 재현율의 **조화 평균(harmonic mean)**이다.\n",
    "![image.png](attachment:image.png)\n",
    "\n",
    "F1 점수를 계산하려면 f1_score() 함수를 호출한다."
   ]
  },
  {
   "cell_type": "code",
   "execution_count": 23,
   "id": "institutional-harrison",
   "metadata": {},
   "outputs": [
    {
     "data": {
      "text/plain": [
       "0.7325171197343846"
      ]
     },
     "execution_count": 23,
     "metadata": {},
     "output_type": "execute_result"
    }
   ],
   "source": [
    "from sklearn.metrics import f1_score\n",
    "f1_score(y_train_5, y_train_pred)"
   ]
  },
  {
   "cell_type": "markdown",
   "id": "willing-freeware",
   "metadata": {},
   "source": [
    "정밀도와 재현율이 비슷한 분류기에선 F1 점수가 높다. 하지만 상황에 따라 정밀도가 중요하거나 재현율이 중요할 수도 있다. \\\n",
    "예를 들어 아이를 위해 안전한 동영상을 걸러내는 분류기를 훈련할때, 재현율은 높으나 나쁜 동영상도 몇개 노출되는 것보단, 낮은 재현율로 좋은 동영상이 몇개 제외되더라도 안전한 것들만 노출시키는 높은 정밀도의 분류기가 선호된다.\\\n",
    "그에 비해 도둑을 잡아내는 분류기를 훈련할때, 분류기의 재현율이 99%라면 정확도가 30%만 되더라도 괜찮을지도 모른다.\n",
    "\n",
    "이처럼 정밀도와 재현율이 반비례하는 것을 **정밀도/재현율 트레이드오프**라고 한다."
   ]
  },
  {
   "attachments": {
    "image.png": {
     "image/png": "[encoded data removed]"
    }
   },
   "cell_type": "markdown",
   "id": "scenic-airplane",
   "metadata": {},
   "source": [
    "### 2-4.정밀도/재현율 트레이드오프\n",
    "SGDClassifier는 **결정 함수(decision function)**을 사용하여 각 샘플의 점수를 계산한다. 이 점수가 임곗값보다 크면 샘플을 양성 클래스에 할당하고 반대론 음성 클래스에 할당한다. \n",
    "\n",
    "![image.png](attachment:image.png)\n",
    "\n",
    "위 사진에서 가운데 화살표를 **결정 임곗값(decision threshold)**라고 가정했을 때 임곗값 오른쪽에 4개의 TP가 있고 1개의 FP가 있기에 정밀도는 4/(4+1)=80%가 된다. 하지만 TP는 4개고 FP는 2개 이므로 4/(4+2)=67%이다. \\\n",
    "임곗값을 오른쪽으로 옮기면 FP인 '6'이 TN이 되므로 정밀도가 3/(3+0)=100%가 된다. 하지만 TP하나가 FN가 되며 재현율이 3/(3+3)=50%로 줄어든다."
   ]
  },
  {
   "cell_type": "markdown",
   "id": "intermediate-royal",
   "metadata": {},
   "source": [
    "사이킷런에서 임곗값을 직접 지정할 순 없지만 예측에 사용한 점수는 확인할 수 있다. 분류기의 predict() 메서드 대신 decision_function() 메서드를 호출하면 각 샘플의 점수를 얻을 수 있다. 이 점수를 기반으로 원하는 임곗값을 정해 예측을 만들 수 있다."
   ]
  },
  {
   "cell_type": "code",
   "execution_count": null,
   "id": "handed-torture",
   "metadata": {},
   "outputs": [],
   "source": [
    "y_scores = cross_val_predict(sgd_clf, X_train, y_train_5, cv=3, method='decision_function')"
   ]
  },
  {
   "cell_type": "code",
   "execution_count": null,
   "id": "weighted-notebook",
   "metadata": {},
   "outputs": [],
   "source": []
  }
 ],
 "metadata": {
  "kernelspec": {
   "display_name": "Python 3",
   "language": "python",
   "name": "python3"
  },
  "language_info": {
   "codemirror_mode": {
    "name": "ipython",
    "version": 3
   },
   "file_extension": ".py",
   "mimetype": "text/x-python",
   "name": "python",
   "nbconvert_exporter": "python",
   "pygments_lexer": "ipython3",
   "version": "3.8.5"
  }
 },
 "nbformat": 4,
 "nbformat_minor": 5
}
